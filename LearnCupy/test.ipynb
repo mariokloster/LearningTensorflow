{
 "cells": [
  {
   "cell_type": "markdown",
   "metadata": {},
   "source": [
    "##### Group: xx (name1, name2, name3, name4)"
   ]
  },
  {
   "cell_type": "markdown",
   "metadata": {},
   "source": [
    "# Homework 2\n",
    "\n",
    "The purpose of this homework is to get acquainted with the solution of linear systems using elementary methods. As a model problem, we will work with polynomial interpolation. We will also use this homework as an opportunity to examine and familiarize ourselves with the Numpy library for Python, which makes it extremely easy to work with arrays in general, and vectors and matrices in particular.\n",
    "\n",
    "- - -\n",
    "\n",
    "<div class=\"alert alert-info\">\n",
    "\n",
    "### NumPy and Linear Algebra in Python\n",
    "</div>\n",
    "\n",
    "There are several excellent sources of documentation for Numpy.\n",
    "\n",
    "<div class=\"alert alert-success\">\n",
    "    \n",
    "**Task 1:** Familiarize yourself with Numpy by reading the [quickstart tutorial](https://docs.scipy.org/doc/numpy/user/quickstart.html):\n",
    "- In particular, since we will be working with matrices (two-dimensional arrays), make sure you understand indexing and slicing.\n",
    "- Also, be aware of the semantics of assignments (view vs. copy), which is sometimes tricky for beginners. More [here](https://www.jessicayung.com/numpy-views-vs-copies-avoiding-costly-mistakes/) and [here](https://scipy-cookbook.readthedocs.io/items/ViewsVsCopies.html).\n",
    "</div>\n",
    "\n",
    "Let's get started by importing the relevant packages and doing some basic setup."
   ]
  },
  {
   "cell_type": "code",
   "execution_count": 1,
   "metadata": {},
   "outputs": [],
   "source": [
    "import numpy as np              # basic arrays, vectors, matrices\n",
    "import numpy.linalg as la       # linear algebra functions\n",
    "import matplotlib.pyplot as plt # plotting\n",
    "\n",
    "%matplotlib inline"
   ]
  },
  {
   "cell_type": "markdown",
   "metadata": {},
   "source": [
    "- - -\n",
    "\n",
    "<div class=\"alert alert-info\">\n",
    "\n",
    "### Polynomial Interpolation\n",
    "</div>\n",
    "\n",
    "*Interpolation* refers to the process of extrapolating from discrete measurements to a continuous function. A model problem is for example to compute the continuous trajectory $x(t)$ of an object over time from discrete snapshots $(t_i,x_i)$. *Polynomial interpolation* specifically refers to describing the continuous function as a polynomial.\n",
    "\n",
    "Formally, the (one-dimensional) polynomial interpolation problem is described as follows: given a sequence of $n$ $x$-coordinates $(x_0,\\dots,x_n)$ with $x_i \\neq x_j$ if $i\\neq j$ and corresponding values $y_i \\in \\mathbb{R}$, determine a polynomial $p(x)$ of degree $n$ such that\n",
    "\n",
    "$$\n",
    "p(x_i)\\ =\\ a_n x^n + a_{n-1} x^{n-1} + \\cdots + a_1 x + a_0\\ \\stackrel{!}{=}\\ y_i,\\ \\ i=0,\\dots,n.\n",
    "$$\n",
    "\n",
    "This problem can be turned into a linear system, as follows:\n",
    "\n",
    "Let $v_j$ the vector of powers of $v_j$, i.e. \n",
    "\n",
    "$$v_j = (1, x_j, x_j^2, \\dots, x_j^n)^T,$$ \n",
    "\n",
    "and let $a = (a_0, a_1, \\dots, a_n)^T$ the vector of coefficients of $p$. Then, the interpolation condition $p(x_i) = y_i$ can be written as the scalar product of $q_i$ and $a$, since\n",
    "\n",
    "$$\n",
    "p(x_i)\\ =\\ a_n x_i^n + \\cdots + a_1 x_i + 1 \\cdot a_0 = \\ a^T v_i\\  \\stackrel{!}{=} y_i\n",
    "$$\n",
    "\n",
    "Repeating this for $i=0,\\dots,n$, we obtain a linear system for the coefficients:\n",
    "\n",
    "$$\n",
    "\\begin{pmatrix}\n",
    "1 & x_0 & x_0^2 & \\cdots & x_0^n \\\\\n",
    "1 & x_1 & x_1^2 & \\cdots & x_1^n \\\\\n",
    "1 & x_2 & x_2^2 & \\cdots & x_2^n \\\\\n",
    "\\vdots & \\vdots &\\vdots &\\vdots & \\\\\n",
    "1 & x_n & x_n^2 & \\cdots & x_n^n \\\\\n",
    "\\end{pmatrix}\n",
    "\\begin{pmatrix} a_0 \\\\ a_1 \\\\ a_2 \\\\ \\vdots \\\\ a_n\\end{pmatrix} =\n",
    "\\begin{pmatrix} y_0 \\\\ y_1 \\\\ y_2 \\\\ \\vdots \\\\ y_n\\end{pmatrix}\n",
    "\\qquad\n",
    "$$\n",
    "\n",
    "or briefly using matrix notation\n",
    "\n",
    "$$V a = y$$\n",
    "\n",
    "The $(n+1)\\times (n+1)$ system matrix $V$ with $V_{ij} = x_i^j$ is called a *Vandermonde matrix*. A solution of the corresponding system gives the coefficients $a$ of the polynomial $p$.\n",
    "\n",
    "Let's consider a specific problem instance: first, define NumPy arrays containing the data $x_i$ and $y_i$:"
   ]
  },
  {
   "cell_type": "code",
   "execution_count": 2,
   "metadata": {},
   "outputs": [
    {
     "data": {
      "image/png": "[encoded data removed]",
      "text/plain": [
       "<Figure size 432x288 with 1 Axes>"
      ]
     },
     "metadata": {
      "needs_background": "light"
     },
     "output_type": "display_data"
    }
   ],
   "source": [
    "n = 4\n",
    "y = np.array( [3., 5, 2, 3, 1] )\n",
    "x = np.array( [0., 1, 2, 3, 4] )\n",
    "\n",
    "plt.plot( x, y, 'bo' );"
   ]
  },
  {
   "cell_type": "markdown",
   "metadata": {},
   "source": [
    "Graphically, our goal is to construct a polynomial of degree $4$ (since there are five points) that exactly passes through these points. \n",
    "\n",
    "(You have encountered this problem previously when constructing a line (= polynomial of degree one) given two points, or a parabola (= polynomial of degree two) that passes through three given points.\n",
    "\n",
    "We begin by constructing the Vandermonde system matrix for the $x_i$. Naively, we would write"
   ]
  },
  {
   "cell_type": "code",
   "execution_count": 3,
   "metadata": {},
   "outputs": [
    {
     "data": {
      "text/plain": [
       "array([[  1.,   0.,   0.,   0.,   0.],\n",
       "       [  1.,   1.,   1.,   1.,   1.],\n",
       "       [  1.,   2.,   4.,   8.,  16.],\n",
       "       [  1.,   3.,   9.,  27.,  81.],\n",
       "       [  1.,   4.,  16.,  64., 256.]])"
      ]
     },
     "execution_count": 3,
     "metadata": {},
     "output_type": "execute_result"
    }
   ],
   "source": [
    "V = np.empty( (n+1, n+1) )\n",
    "\n",
    "# directly fill in matrix entries\n",
    "for i in range(n+1):\n",
    "    for j in range(n+1):\n",
    "        V[i,j] = x[i]**j\n",
    "        \n",
    "V"
   ]
  },
  {
   "cell_type": "markdown",
   "metadata": {},
   "source": [
    "However, we can write this a little more compactly using a list comprehension:"
   ]
  },
  {
   "cell_type": "code",
   "execution_count": 4,
   "metadata": {},
   "outputs": [
    {
     "data": {
      "text/plain": [
       "array([[  1.,   1.,   1.,   1.,   1.],\n",
       "       [  0.,   1.,   2.,   3.,   4.],\n",
       "       [  0.,   1.,   4.,   9.,  16.],\n",
       "       [  0.,   1.,   8.,  27.,  64.],\n",
       "       [  0.,   1.,  16.,  81., 256.]])"
      ]
     },
     "execution_count": 4,
     "metadata": {},
     "output_type": "execute_result"
    }
   ],
   "source": [
    "# create a 2D array whose rows are the powers of x,\n",
    "# then transpose so the columns are the powers of x\n",
    "V = np.array( [x**p for p in range(n+1)] )\n",
    "V"
   ]
  },
  {
   "cell_type": "markdown",
   "metadata": {},
   "source": [
    "Even shorter: NumPy directly offers the [`vander`](https://docs.scipy.org/doc/numpy/reference/generated/numpy.vander.html) function for constructing $V$. By default, `vander` constructs the matrix such that the powers decrease along the rows of $V$; we thus need to pass `increasing=True` to match the order of $a$ we defined above."
   ]
  },
  {
   "cell_type": "code",
   "execution_count": 5,
   "metadata": {
    "scrolled": true
   },
   "outputs": [
    {
     "data": {
      "text/plain": [
       "array([[  1.,   0.,   0.,   0.,   0.],\n",
       "       [  1.,   1.,   1.,   1.,   1.],\n",
       "       [  1.,   2.,   4.,   8.,  16.],\n",
       "       [  1.,   3.,   9.,  27.,  81.],\n",
       "       [  1.,   4.,  16.,  64., 256.]])"
      ]
     },
     "execution_count": 5,
     "metadata": {},
     "output_type": "execute_result"
    }
   ],
   "source": [
    "V = np.vander( x, increasing=True )\n",
    "V"
   ]
  },
  {
   "cell_type": "markdown",
   "metadata": {},
   "source": [
    "Now we can solve the system $Va = y$ for $a$ to obtain the coefficients of the polynomial $p$."
   ]
  },
  {
   "cell_type": "markdown",
   "metadata": {},
   "source": [
    "- - -\n",
    "\n",
    "<div class=\"alert alert-info\">\n",
    "    \n",
    "### Gauss Elimination\n",
    "</div>\n",
    "\n",
    "As discussed in the lecture, the Gauss elimination algorithm can be used to solve the system above."
   ]
  },
  {
   "cell_type": "markdown",
   "metadata": {},
   "source": [
    "<div class=\"alert alert-success\">\n",
    "    \n",
    "**Task 2:** Implement the Gauss algorithm (without pivoting) in two steps through the below functions:\n",
    "- `bwd_subs` should perform backward substitution to solve an upper tridiagonal system\n",
    "- `gauss_solve` should reduce the extended matrix $(A,b)$ to upper tridiagonal form via Gauss elimination, and then use `bwd_subs` to solve the system\n",
    "- It is always sensible to think about ways to validate your implementations, e.g. check that `bwd_subs` does the right thing.\n",
    "</div>"
   ]
  },
  {
   "cell_type": "code",
   "execution_count": 6,
   "metadata": {},
   "outputs": [],
   "source": [
    "def bwd_subs( U, y ):\n",
    "        \n",
    "    \"\"\"Solve the linear system Ux = y with upper triangular matrix U by backward substitution.\"\"\"\n",
    "\n",
    "\n",
    "\n",
    "        \n",
    "    return x\n",
    "\n",
    "def gauss_solve( A, b ):\n",
    "    \"\"\"Solve the linear system Ax=b using direct Gaussian elimination and backward substitution.\"\"\"\n",
    "\n",
    "    # TO DO\n",
    "    \n",
    "    \n",
    "    return x"
   ]
  },
  {
   "cell_type": "markdown",
   "metadata": {},
   "source": [
    "Let's apply this to our problem and validate the solution graphically. NumPy conveniently provides the [`polyval`](https://docs.scipy.org/doc/numpy/reference/generated/numpy.polyval.html) function to evaluate the found polynomial. \n",
    "\n",
    "A potential showstopper is that `polyval` requires as input the coefficients in descending order (i.e. `a[0]` as the coefficient of $x^n$), while we compute them in ascending order (`a[n]` is the coefficient of $x^n$). This is however easily remedied using NumPy's [`flip`](https://docs.scipy.org/doc/numpy/reference/generated/numpy.flip.html?highlight=flip#numpy.flip) function."
   ]
  },
  {
   "cell_type": "code",
   "execution_count": 7,
   "metadata": {
    "scrolled": true
   },
   "outputs": [
    {
     "data": {
      "image/png": "[encoded data removed]",
      "text/plain": [
       "<Figure size 432x288 with 1 Axes>"
      ]
     },
     "metadata": {
      "needs_background": "light"
     },
     "output_type": "display_data"
    }
   ],
   "source": [
    "a = gauss_solve( V, y )\n",
    "\n",
    "y = np.array( [3., 5, 2, 3, 1] )\n",
    "x = np.array( [0., 1, 2, 3, 4] )\n",
    "# plot output\n",
    "xx = np.linspace( x.min(), x.max(), 100 )\n",
    "yy = np.polyval( np.flip(a), xx )\n",
    "\n",
    "\n",
    "plt.plot( xx, yy, 'r-', x, y, 'bo' );"
   ]
  },
  {
   "cell_type": "markdown",
   "metadata": {},
   "source": [
    "Problem solved! (... if you completed task 2.)"
   ]
  },
  {
   "cell_type": "markdown",
   "metadata": {},
   "source": [
    "- - -\n",
    "\n",
    "<div class=\"alert alert-info\">\n",
    "    \n",
    "### LU Decomposition\n",
    "</div>\n",
    "\n",
    "While Gauss elimination works well for a small number of points, for a large number of points it does not work well. Let's look at a larger problem instance:"
   ]
  },
  {
   "cell_type": "code",
   "execution_count": 8,
   "metadata": {},
   "outputs": [
    {
     "data": {
      "image/png": "[encoded data removed]",
      "text/plain": [
       "<Figure size 432x288 with 1 Axes>"
      ]
     },
     "metadata": {
      "needs_background": "light"
     },
     "output_type": "display_data"
    }
   ],
   "source": [
    "n = 50\n",
    "x = np.linspace( -1, 1, n )\n",
    "y = np.cos( 15*x**2 )\n",
    "\n",
    "# set up system matrix\n",
    "V = np.vander( x, increasing=True )\n",
    "a = gauss_solve( V, y )\n",
    "\n",
    "# plot output\n",
    "x = np.linspace( -1, 1, n )\n",
    "y = np.cos( 15*x**2 )\n",
    "xx = np.linspace( x.min(), x.max(), 100 )\n",
    "yy = np.polyval( np.flip(a), xx )\n",
    "\n",
    "plt.plot( xx, yy, 'r-', x, y, 'bo' );"
   ]
  },
  {
   "cell_type": "markdown",
   "metadata": {},
   "source": [
    "This does not look entirely right. In order to quantify the error, we can compute the norm of the *residual* vector: \n",
    "\n",
    "$$r := y - Va $$"
   ]
  },
  {
   "cell_type": "code",
   "execution_count": 9,
   "metadata": {},
   "outputs": [
    {
     "data": {
      "text/plain": [
       "17.752303108487546"
      ]
     },
     "execution_count": 9,
     "metadata": {},
     "output_type": "execute_result"
    }
   ],
   "source": [
    "la.norm(y- np.matmul(V, a))"
   ]
  },
  {
   "cell_type": "markdown",
   "metadata": {},
   "source": [
    "and see that it is not actually small. \n",
    "\n",
    "The reason that the residual is so large lies in the ill-conditioned nature of the system matrix. NumPy gives us an easy way to compute the condition number of the system matrix, which indicates how much small errors are amplified when solving the system:"
   ]
  },
  {
   "cell_type": "code",
   "execution_count": 10,
   "metadata": {},
   "outputs": [
    {
     "data": {
      "text/plain": [
       "4.548112917510645e+18"
      ]
     },
     "execution_count": 10,
     "metadata": {},
     "output_type": "execute_result"
    }
   ],
   "source": [
    "la.cond( V )"
   ]
  },
  {
   "cell_type": "markdown",
   "metadata": {},
   "source": [
    "That is a big number. While the Gauss algorithm works well for well-conditioned problems, it is not stable enough to address severely ill-conditioned problems; hence it does not work well here.\n",
    "\n",
    "**Aside**: It is easy to see that the condition number increases rapidly with $n$:"
   ]
  },
  {
   "cell_type": "code",
   "execution_count": 11,
   "metadata": {},
   "outputs": [
    {
     "data": {
      "image/png": "[encoded data removed]",
      "text/plain": [
       "<Figure size 432x288 with 1 Axes>"
      ]
     },
     "metadata": {
      "needs_background": "light"
     },
     "output_type": "display_data"
    }
   ],
   "source": [
    "plt.plot( [np.log10(la.cond(np.vander(np.linspace(0,1,n)))) for n in range(1,20)] );"
   ]
  },
  {
   "cell_type": "markdown",
   "metadata": {},
   "source": [
    "As the number of points increases, the columns of the Vandermonde matrix become more and more similar and thus less and less linear independent; for 10 points, the condition number is already $\\approx 10^8$. In a sense, the system becomes more and more difficult to solve, leading to increasing problems in the application of numerical techniques. (This is quite typical behavior for many important numerical problems / techniques.)\n",
    "\n",
    "To remedy this, let's apply the LU decomposition with partial pivoting to solve this system. The purpose of the pivoting is to increase the numerical stability of the algorithm.\n",
    "\n",
    "<div class=\"alert alert-success\">\n",
    "\n",
    "**Task 3**: implement routines `lu_factor`, `fwd_subs` and `lu_solve` below for computing and using the LU decomposition with partial pivoting\n",
    "</div>"
   ]
  },
  {
   "cell_type": "code",
   "execution_count": 12,
   "metadata": {},
   "outputs": [],
   "source": [
    "def lu_factor(A):\n",
    "    \"\"\"Perform an LU decomposition PA = LU with partial pivoting of the square matrix A.\"\"\"\n",
    "    \n",
    "\n",
    "    \n",
    "    \n",
    "    # TO DO\n",
    "    \n",
    "\n",
    "    return (P, L, U)\n",
    "\n",
    "def fwd_subs( L, b ):\n",
    "    \"\"\"Solve the linear system Ly = b with lower triangular matrix L by forward substitution.\"\"\"\n",
    "    \n",
    "    # TO DO\n",
    "    \n",
    "    \n",
    "        \n",
    "    return y\n",
    "\n",
    "def lu_solve(P, L, U, b):\n",
    "    \"\"\"Solve the linear system Ax = b with upper/lower triangular matrices U, L and\n",
    "       permutation matrix P.\"\"\"\n",
    "    \n",
    "    # TO DO\n",
    "    \n",
    "           \n",
    "    return x\n",
    "    "
   ]
  },
  {
   "cell_type": "markdown",
   "metadata": {},
   "source": [
    "Let's apply this to our problem:"
   ]
  },
  {
   "cell_type": "code",
   "execution_count": 13,
   "metadata": {},
   "outputs": [
    {
     "ename": "NameError",
     "evalue": "name 'P' is not defined",
     "output_type": "error",
     "traceback": [
      "\u001B[0;31m---------------------------------------------------------------------------\u001B[0m",
      "\u001B[0;31mNameError\u001B[0m                                 Traceback (most recent call last)",
      "\u001B[0;32m<ipython-input-13-eb97d24dcd44>\u001B[0m in \u001B[0;36m<module>\u001B[0;34m\u001B[0m\n\u001B[1;32m      6\u001B[0m \u001B[0mV\u001B[0m \u001B[0;34m=\u001B[0m \u001B[0mnp\u001B[0m\u001B[0;34m.\u001B[0m\u001B[0mvander\u001B[0m\u001B[0;34m(\u001B[0m \u001B[0mx\u001B[0m\u001B[0;34m,\u001B[0m \u001B[0mincreasing\u001B[0m\u001B[0;34m=\u001B[0m\u001B[0;32mTrue\u001B[0m \u001B[0;34m)\u001B[0m\u001B[0;34m\u001B[0m\u001B[0;34m\u001B[0m\u001B[0m\n\u001B[1;32m      7\u001B[0m \u001B[0;34m\u001B[0m\u001B[0m\n\u001B[0;32m----> 8\u001B[0;31m \u001B[0mP\u001B[0m\u001B[0;34m,\u001B[0m\u001B[0mL\u001B[0m\u001B[0;34m,\u001B[0m\u001B[0mU\u001B[0m \u001B[0;34m=\u001B[0m \u001B[0mlu_factor\u001B[0m\u001B[0;34m(\u001B[0m\u001B[0mV\u001B[0m\u001B[0;34m)\u001B[0m\u001B[0;34m\u001B[0m\u001B[0;34m\u001B[0m\u001B[0m\n\u001B[0m\u001B[1;32m      9\u001B[0m \u001B[0ma\u001B[0m \u001B[0;34m=\u001B[0m \u001B[0mlu_solve\u001B[0m\u001B[0;34m(\u001B[0m\u001B[0mP\u001B[0m\u001B[0;34m,\u001B[0m\u001B[0mL\u001B[0m\u001B[0;34m,\u001B[0m\u001B[0mU\u001B[0m\u001B[0;34m,\u001B[0m\u001B[0my\u001B[0m\u001B[0;34m)\u001B[0m\u001B[0;34m\u001B[0m\u001B[0;34m\u001B[0m\u001B[0m\n\u001B[1;32m     10\u001B[0m \u001B[0;34m\u001B[0m\u001B[0m\n",
      "\u001B[0;32m<ipython-input-12-c2a6498a8191>\u001B[0m in \u001B[0;36mlu_factor\u001B[0;34m(A)\u001B[0m\n\u001B[1;32m      8\u001B[0m \u001B[0;34m\u001B[0m\u001B[0m\n\u001B[1;32m      9\u001B[0m \u001B[0;34m\u001B[0m\u001B[0m\n\u001B[0;32m---> 10\u001B[0;31m     \u001B[0;32mreturn\u001B[0m \u001B[0;34m(\u001B[0m\u001B[0mP\u001B[0m\u001B[0;34m,\u001B[0m \u001B[0mL\u001B[0m\u001B[0;34m,\u001B[0m \u001B[0mU\u001B[0m\u001B[0;34m)\u001B[0m\u001B[0;34m\u001B[0m\u001B[0;34m\u001B[0m\u001B[0m\n\u001B[0m\u001B[1;32m     11\u001B[0m \u001B[0;34m\u001B[0m\u001B[0m\n\u001B[1;32m     12\u001B[0m \u001B[0;32mdef\u001B[0m \u001B[0mfwd_subs\u001B[0m\u001B[0;34m(\u001B[0m \u001B[0mL\u001B[0m\u001B[0;34m,\u001B[0m \u001B[0mb\u001B[0m \u001B[0;34m)\u001B[0m\u001B[0;34m:\u001B[0m\u001B[0;34m\u001B[0m\u001B[0;34m\u001B[0m\u001B[0m\n",
      "\u001B[0;31mNameError\u001B[0m: name 'P' is not defined"
     ]
    }
   ],
   "source": [
    "n = 50\n",
    "x = np.linspace( -1, 1, n )\n",
    "y = np.cos( 15*x**2 )\n",
    "\n",
    "# set up system matrix\n",
    "V = np.vander( x, increasing=True )\n",
    "\n",
    "P,L,U = lu_factor(V)\n",
    "a = lu_solve(P,L,U,y)\n",
    "\n",
    "print( \"residual = \", la.norm( y- np.matmul(V, a)) )\n",
    "\n",
    "# plot output\n",
    "xx = np.linspace( x.min(), x.max(), 200 )\n",
    "yy = np.polyval( np.flip(a), xx )\n",
    "\n",
    "plt.plot( xx, yy, 'r-', x, y, 'bo' );"
   ]
  },
  {
   "cell_type": "markdown",
   "metadata": {},
   "source": [
    "- - - \n",
    "\n",
    "<div class=\"alert alert-info\">\n",
    "\n",
    "### Microbenchmarks\n",
    "</div>\n",
    "\n",
    "Beyond numerical stability from pivoting, the LU decomposition also has one other advantage: the elimination work is captured in $L$ and $U$ and does not have to be repeated if the same linear system must be solved repeatedly for different right-hand sides.\n",
    "\n",
    "This is a good opportunity to use a *microbenchmark* to quickly get an idea whether this is true in practice. Let's create one using Jupyter's [`%%timeit`](https://ipython.readthedocs.io/en/stable/interactive/magics.html#magic-timeit) magic that measures the runtime of a single cell. First, set up a test problem, using again polynomial interpolation:"
   ]
  },
  {
   "cell_type": "code",
   "execution_count": 14,
   "metadata": {},
   "outputs": [
    {
     "name": "stdout",
     "output_type": "stream",
     "text": [
      "[[0.09413751 0.23041134 0.77866983 ... 0.48351571 0.23243612 0.47091666]\n",
      " [0.78368902 0.16676837 0.86748842 ... 0.56696857 0.58409402 0.64550473]\n",
      " [0.27656528 0.10001449 0.91103218 ... 0.56618139 0.50654494 0.77352245]\n",
      " ...\n",
      " [0.89007625 0.50078524 0.79195057 ... 0.44148994 0.09010756 0.84304089]\n",
      " [0.74469898 0.87566957 0.10344185 ... 0.56659224 0.53139289 0.05451505]\n",
      " [0.04317838 0.40490833 0.72305098 ... 0.59623669 0.10481029 0.47651053]]\n"
     ]
    }
   ],
   "source": [
    "n = 40\n",
    "x = np.linspace( 0, 1, n )\n",
    "\n",
    "# set up the system matrix\n",
    "V = np.vander( x, increasing=True )\n",
    "\n",
    "# create m random right-hand sides\n",
    "m = 500\n",
    "y = np.random.random(size=(m,n))\n",
    "print(y)"
   ]
  },
  {
   "cell_type": "markdown",
   "metadata": {},
   "source": [
    "Now, we can measure the time required to do one decomposition and $m$ solutions:"
   ]
  },
  {
   "cell_type": "code",
   "execution_count": 15,
   "metadata": {},
   "outputs": [
    {
     "ename": "NameError",
     "evalue": "name 'P' is not defined",
     "output_type": "error",
     "traceback": [
      "\u001B[0;31m---------------------------------------------------------------------------\u001B[0m",
      "\u001B[0;31mNameError\u001B[0m                                 Traceback (most recent call last)",
      "\u001B[0;32m<ipython-input-15-7c9cb22ab70b>\u001B[0m in \u001B[0;36m<module>\u001B[0;34m\u001B[0m\n\u001B[0;32m----> 1\u001B[0;31m \u001B[0mget_ipython\u001B[0m\u001B[0;34m(\u001B[0m\u001B[0;34m)\u001B[0m\u001B[0;34m.\u001B[0m\u001B[0mrun_cell_magic\u001B[0m\u001B[0;34m(\u001B[0m\u001B[0;34m'timeit'\u001B[0m\u001B[0;34m,\u001B[0m \u001B[0;34m''\u001B[0m\u001B[0;34m,\u001B[0m \u001B[0;34m'\\nP,L,U = lu_factor(V)\\nfor b in y:\\n    a = lu_solve(P,L,U, b)\\n'\u001B[0m\u001B[0;34m)\u001B[0m\u001B[0;34m\u001B[0m\u001B[0;34m\u001B[0m\u001B[0m\n\u001B[0m",
      "\u001B[0;32m/usr/local/lib/python3.7/site-packages/IPython/core/interactiveshell.py\u001B[0m in \u001B[0;36mrun_cell_magic\u001B[0;34m(self, magic_name, line, cell)\u001B[0m\n\u001B[1;32m   2357\u001B[0m             \u001B[0;32mwith\u001B[0m \u001B[0mself\u001B[0m\u001B[0;34m.\u001B[0m\u001B[0mbuiltin_trap\u001B[0m\u001B[0;34m:\u001B[0m\u001B[0;34m\u001B[0m\u001B[0;34m\u001B[0m\u001B[0m\n\u001B[1;32m   2358\u001B[0m                 \u001B[0margs\u001B[0m \u001B[0;34m=\u001B[0m \u001B[0;34m(\u001B[0m\u001B[0mmagic_arg_s\u001B[0m\u001B[0;34m,\u001B[0m \u001B[0mcell\u001B[0m\u001B[0;34m)\u001B[0m\u001B[0;34m\u001B[0m\u001B[0;34m\u001B[0m\u001B[0m\n\u001B[0;32m-> 2359\u001B[0;31m                 \u001B[0mresult\u001B[0m \u001B[0;34m=\u001B[0m \u001B[0mfn\u001B[0m\u001B[0;34m(\u001B[0m\u001B[0;34m*\u001B[0m\u001B[0margs\u001B[0m\u001B[0;34m,\u001B[0m \u001B[0;34m**\u001B[0m\u001B[0mkwargs\u001B[0m\u001B[0;34m)\u001B[0m\u001B[0;34m\u001B[0m\u001B[0;34m\u001B[0m\u001B[0m\n\u001B[0m\u001B[1;32m   2360\u001B[0m             \u001B[0;32mreturn\u001B[0m \u001B[0mresult\u001B[0m\u001B[0;34m\u001B[0m\u001B[0;34m\u001B[0m\u001B[0m\n\u001B[1;32m   2361\u001B[0m \u001B[0;34m\u001B[0m\u001B[0m\n",
      "\u001B[0;32m<decorator-gen-60>\u001B[0m in \u001B[0;36mtimeit\u001B[0;34m(self, line, cell, local_ns)\u001B[0m\n",
      "\u001B[0;32m/usr/local/lib/python3.7/site-packages/IPython/core/magic.py\u001B[0m in \u001B[0;36m<lambda>\u001B[0;34m(f, *a, **k)\u001B[0m\n\u001B[1;32m    185\u001B[0m     \u001B[0;31m# but it's overkill for just that one bit of state.\u001B[0m\u001B[0;34m\u001B[0m\u001B[0;34m\u001B[0m\u001B[0;34m\u001B[0m\u001B[0m\n\u001B[1;32m    186\u001B[0m     \u001B[0;32mdef\u001B[0m \u001B[0mmagic_deco\u001B[0m\u001B[0;34m(\u001B[0m\u001B[0marg\u001B[0m\u001B[0;34m)\u001B[0m\u001B[0;34m:\u001B[0m\u001B[0;34m\u001B[0m\u001B[0;34m\u001B[0m\u001B[0m\n\u001B[0;32m--> 187\u001B[0;31m         \u001B[0mcall\u001B[0m \u001B[0;34m=\u001B[0m \u001B[0;32mlambda\u001B[0m \u001B[0mf\u001B[0m\u001B[0;34m,\u001B[0m \u001B[0;34m*\u001B[0m\u001B[0ma\u001B[0m\u001B[0;34m,\u001B[0m \u001B[0;34m**\u001B[0m\u001B[0mk\u001B[0m\u001B[0;34m:\u001B[0m \u001B[0mf\u001B[0m\u001B[0;34m(\u001B[0m\u001B[0;34m*\u001B[0m\u001B[0ma\u001B[0m\u001B[0;34m,\u001B[0m \u001B[0;34m**\u001B[0m\u001B[0mk\u001B[0m\u001B[0;34m)\u001B[0m\u001B[0;34m\u001B[0m\u001B[0;34m\u001B[0m\u001B[0m\n\u001B[0m\u001B[1;32m    188\u001B[0m \u001B[0;34m\u001B[0m\u001B[0m\n\u001B[1;32m    189\u001B[0m         \u001B[0;32mif\u001B[0m \u001B[0mcallable\u001B[0m\u001B[0;34m(\u001B[0m\u001B[0marg\u001B[0m\u001B[0;34m)\u001B[0m\u001B[0;34m:\u001B[0m\u001B[0;34m\u001B[0m\u001B[0;34m\u001B[0m\u001B[0m\n",
      "\u001B[0;32m/usr/local/lib/python3.7/site-packages/IPython/core/magics/execution.py\u001B[0m in \u001B[0;36mtimeit\u001B[0;34m(self, line, cell, local_ns)\u001B[0m\n\u001B[1;32m   1156\u001B[0m             \u001B[0;32mfor\u001B[0m \u001B[0mindex\u001B[0m \u001B[0;32min\u001B[0m \u001B[0mrange\u001B[0m\u001B[0;34m(\u001B[0m\u001B[0;36m0\u001B[0m\u001B[0;34m,\u001B[0m \u001B[0;36m10\u001B[0m\u001B[0;34m)\u001B[0m\u001B[0;34m:\u001B[0m\u001B[0;34m\u001B[0m\u001B[0;34m\u001B[0m\u001B[0m\n\u001B[1;32m   1157\u001B[0m                 \u001B[0mnumber\u001B[0m \u001B[0;34m=\u001B[0m \u001B[0;36m10\u001B[0m \u001B[0;34m**\u001B[0m \u001B[0mindex\u001B[0m\u001B[0;34m\u001B[0m\u001B[0;34m\u001B[0m\u001B[0m\n\u001B[0;32m-> 1158\u001B[0;31m                 \u001B[0mtime_number\u001B[0m \u001B[0;34m=\u001B[0m \u001B[0mtimer\u001B[0m\u001B[0;34m.\u001B[0m\u001B[0mtimeit\u001B[0m\u001B[0;34m(\u001B[0m\u001B[0mnumber\u001B[0m\u001B[0;34m)\u001B[0m\u001B[0;34m\u001B[0m\u001B[0;34m\u001B[0m\u001B[0m\n\u001B[0m\u001B[1;32m   1159\u001B[0m                 \u001B[0;32mif\u001B[0m \u001B[0mtime_number\u001B[0m \u001B[0;34m>=\u001B[0m \u001B[0;36m0.2\u001B[0m\u001B[0;34m:\u001B[0m\u001B[0;34m\u001B[0m\u001B[0;34m\u001B[0m\u001B[0m\n\u001B[1;32m   1160\u001B[0m                     \u001B[0;32mbreak\u001B[0m\u001B[0;34m\u001B[0m\u001B[0;34m\u001B[0m\u001B[0m\n",
      "\u001B[0;32m/usr/local/lib/python3.7/site-packages/IPython/core/magics/execution.py\u001B[0m in \u001B[0;36mtimeit\u001B[0;34m(self, number)\u001B[0m\n\u001B[1;32m    167\u001B[0m         \u001B[0mgc\u001B[0m\u001B[0;34m.\u001B[0m\u001B[0mdisable\u001B[0m\u001B[0;34m(\u001B[0m\u001B[0;34m)\u001B[0m\u001B[0;34m\u001B[0m\u001B[0;34m\u001B[0m\u001B[0m\n\u001B[1;32m    168\u001B[0m         \u001B[0;32mtry\u001B[0m\u001B[0;34m:\u001B[0m\u001B[0;34m\u001B[0m\u001B[0;34m\u001B[0m\u001B[0m\n\u001B[0;32m--> 169\u001B[0;31m             \u001B[0mtiming\u001B[0m \u001B[0;34m=\u001B[0m \u001B[0mself\u001B[0m\u001B[0;34m.\u001B[0m\u001B[0minner\u001B[0m\u001B[0;34m(\u001B[0m\u001B[0mit\u001B[0m\u001B[0;34m,\u001B[0m \u001B[0mself\u001B[0m\u001B[0;34m.\u001B[0m\u001B[0mtimer\u001B[0m\u001B[0;34m)\u001B[0m\u001B[0;34m\u001B[0m\u001B[0;34m\u001B[0m\u001B[0m\n\u001B[0m\u001B[1;32m    170\u001B[0m         \u001B[0;32mfinally\u001B[0m\u001B[0;34m:\u001B[0m\u001B[0;34m\u001B[0m\u001B[0;34m\u001B[0m\u001B[0m\n\u001B[1;32m    171\u001B[0m             \u001B[0;32mif\u001B[0m \u001B[0mgcold\u001B[0m\u001B[0;34m:\u001B[0m\u001B[0;34m\u001B[0m\u001B[0;34m\u001B[0m\u001B[0m\n",
      "\u001B[0;32m<magic-timeit>\u001B[0m in \u001B[0;36minner\u001B[0;34m(_it, _timer)\u001B[0m\n",
      "\u001B[0;32m<ipython-input-12-c2a6498a8191>\u001B[0m in \u001B[0;36mlu_factor\u001B[0;34m(A)\u001B[0m\n\u001B[1;32m      8\u001B[0m \u001B[0;34m\u001B[0m\u001B[0m\n\u001B[1;32m      9\u001B[0m \u001B[0;34m\u001B[0m\u001B[0m\n\u001B[0;32m---> 10\u001B[0;31m     \u001B[0;32mreturn\u001B[0m \u001B[0;34m(\u001B[0m\u001B[0mP\u001B[0m\u001B[0;34m,\u001B[0m \u001B[0mL\u001B[0m\u001B[0;34m,\u001B[0m \u001B[0mU\u001B[0m\u001B[0;34m)\u001B[0m\u001B[0;34m\u001B[0m\u001B[0;34m\u001B[0m\u001B[0m\n\u001B[0m\u001B[1;32m     11\u001B[0m \u001B[0;34m\u001B[0m\u001B[0m\n\u001B[1;32m     12\u001B[0m \u001B[0;32mdef\u001B[0m \u001B[0mfwd_subs\u001B[0m\u001B[0;34m(\u001B[0m \u001B[0mL\u001B[0m\u001B[0;34m,\u001B[0m \u001B[0mb\u001B[0m \u001B[0;34m)\u001B[0m\u001B[0;34m:\u001B[0m\u001B[0;34m\u001B[0m\u001B[0;34m\u001B[0m\u001B[0m\n",
      "\u001B[0;31mNameError\u001B[0m: name 'P' is not defined"
     ]
    }
   ],
   "source": [
    "%%timeit\n",
    "\n",
    "P,L,U = lu_factor(V)\n",
    "for b in y:\n",
    "    a = lu_solve(P,L,U, b)"
   ]
  },
  {
   "cell_type": "markdown",
   "metadata": {},
   "source": [
    "<div class=\"alert alert-success\">\n",
    "\n",
    "**Task 4**: create a microbenchmark that uses `gauss_solve` to solve the system for each right-hand side.\n",
    "</div>"
   ]
  },
  {
   "cell_type": "code",
   "execution_count": 16,
   "metadata": {},
   "outputs": [
    {
     "name": "stdout",
     "output_type": "stream",
     "text": [
      "104 µs ± 2.93 µs per loop (mean ± std. dev. of 7 runs, 10000 loops each)\n"
     ]
    }
   ],
   "source": [
    "%%timeit\n",
    "\n",
    "for b in y:\n",
    "    a = gauss_solve( V, b )\n",
    "    "
   ]
  },
  {
   "cell_type": "markdown",
   "metadata": {},
   "source": [
    "Depending on your implementation, the LU decomposition should be significantly faster on this particular problem.\n",
    "\n",
    "Note: this is not a rigorous benchmark; it may be influenced by many factors such as overall system load etc. However, `%%timeit` can be useful to get a quick idea of execution time. (See the [documentation](https://ipython.readthedocs.io/en/stable/interactive/magics.html#magic-timeit) for more info.)\n",
    "\n",
    "**Concluding remark**: While it was instructive for the purposes of this homework to implement Gauss elimination and LU decomposition by ourselves, for real-world use, NumPy's linear algebra module offers the routine [`numpy.linalg.solve`](https://docs.scipy.org/doc/numpy/reference/generated/numpy.linalg.solve.html), which is a state-of-the-art linear system solver with many tricks to improve numerical stability. Furthermore, the `scipy` module contains implementations of the LU(P) decomposition (cf. [`scipy.linalg.lu`](https://docs.scipy.org/doc/scipy-0.14.0/reference/generated/scipy.linalg.lu.html))."
   ]
  },
  {
   "cell_type": "code",
   "execution_count": null,
   "metadata": {},
   "outputs": [],
   "source": []
  }
 ],
 "metadata": {
  "kernelspec": {
   "display_name": "Python 3",
   "language": "python",
   "name": "python3"
  },
  "language_info": {
   "codemirror_mode": {
    "name": "ipython",
    "version": 3
   },
   "file_extension": ".py",
   "mimetype": "text/x-python",
   "name": "python",
   "nbconvert_exporter": "python",
   "pygments_lexer": "ipython3",
   "version": "3.7.4"
  }
 },
 "nbformat": 4,
 "nbformat_minor": 2
}